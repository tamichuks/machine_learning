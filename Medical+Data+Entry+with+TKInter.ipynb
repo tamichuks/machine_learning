{
 "cells": [
  {
   "cell_type": "markdown",
   "metadata": {},
   "source": [
    "# Create a Medical Input Interface "
   ]
  },
  {
   "cell_type": "code",
   "execution_count": null,
   "metadata": {},
   "outputs": [
    {
     "ename": "",
     "evalue": "",
     "output_type": "error",
     "traceback": [
      "\u001b[1;31mRunning cells with 'Python 3.10.10 ('studysession': venv)' requires ipykernel package.\n",
      "Run the following command to install 'ipykernel' into the Python environment. \n",
      "Command: '\"c:/Mine/Trainings/Machine Learning/Projects/ML/studysession/Scripts/python.exe\" -m pip install ipykernel -U --force-reinstall'"
     ]
    }
   ],
   "source": [
    "import re\n",
    "from tkinter import *\n",
    "import tkinter as tk"
   ]
  },
  {
   "cell_type": "code",
   "execution_count": null,
   "metadata": {},
   "outputs": [],
   "source": [
    "### Set-up and define input variables:\n",
    "\n",
    "# A function to check the input in the numerical fields\n",
    "def check_inputs():\n",
    "    if age.get() == \"\":\n",
    "        print(\"Age Field is Empty!!\")\n",
    "        Label(win,text=\"Age Field is Empty!!\",fg=\"blue\",bg=\"yellow\",font = (\"Calibri 10 bold\")).place(x=12,y=580)\n",
    "    elif heart_rate.get() == \"\":\n",
    "        print(\"Heart Rate Field is Empty!!\")\n",
    "        Label(win,text=\"Heart Rate Field is Empty!!\",fg=\"blue\",bg=\"yellow\",font = (\"Calibri 10 bold\")).place(x=12,y=580)  \n",
    "    else:\n",
    "        statement()\n",
    "        \n",
    "# A function to reset data inputs when the 'Reset' button is clicked\n",
    "def reset():\n",
    "    age.set(\"\")\n",
    "    heart_rate.set(\"\") \n",
    "\n",
    "# A function to print a statement that appears on the app when the 'Input' button is clicked  \n",
    "def statement():\n",
    "    gender_dict = {\"Male\":1, \"Female\":0}\n",
    "    cp_dict = {\"1: typical angina\":0,\"2: atypical angina\":1,\"3: non-anginal pain\":2,\"4: asymptomatic\":3}\n",
    "\n",
    "    data = [float(age.get()),\n",
    "            float(heart_rate.get()),\n",
    "            gender_dict[str(radio.get())], \n",
    "            cp_dict[str(variable.get())]]\n",
    "\n",
    "    Label(win,text= \"Input Successful!\",fg=\"blue\",bg=\"yellow\",font = (\"Calibri 10 bold\")).place(x=12,y=350)\n",
    "    Label(win,text= data,fg=\"blue\",font = (\"Calibri 10 bold\")).place(x=12,y=370)\n",
    "    \n",
    "# ------------------------------------------------------------------------------------------------------\n",
    "\n",
    "### Set-up the appearance of the GUI and the variables:\n",
    "\n",
    "win =  Tk() # Create a new TK window\n",
    "\n",
    "win.geometry(\"500x400\") # window size\n",
    "win.configure(background=\"#Eaedee\") # background colour\n",
    "win.title(\"Patient Data Entry Form\") # window title\n",
    "win.iconbitmap('icon.ico') # icon image - you will need an image file in the same folder as your JN file to include this \n",
    "\n",
    "## The title of the App\n",
    "title = Label(win, text=\"Patient Data Entry\", bg=\"#2583be\", width=\"350\", height=\"2\", \n",
    "              fg=\"black\", font = (\"Arial 30 italic\")).pack()\n",
    "\n",
    "\n",
    "# Add the input labels and fields\n",
    "age = Label(win, text=\"Age in Years\", bg=\"#Eaedee\", font=(\"Verdana 12\")).place(x=12, y=120)\n",
    "\n",
    "heart_rate = Label(win, text=\"Maximum Heart Rate \", bg=\"#Eaedee\", font=(\"Verdana 12\")).place(x=12, y=150)\n",
    "  \n",
    "Gender = Label(win, text=\"Gender \",bg=\"#Eaedee\",font = (\"Verdana 12\")).place(x=12,y=200)\n",
    "\n",
    "radio = StringVar()\n",
    "Male = Radiobutton(win, text=\"Male\",bg=\"#Eaedee\",variable=radio,\n",
    "                   value=\"Male\",font = (\"Verdana 12\")).place(x=220,y=200)\n",
    "Female = Radiobutton(win, text=\"Female\",bg=\"#Eaedee\",variable=radio,\n",
    "                     value=\"Female\",font = (\"Verdana 12\")).place(x=300,y=200)\n",
    "\n",
    "cp = Label(win,text=\"Chest Pain \",bg=\"#Eaedee\",font = (\"Verdana 12\")).place(x=12,y=240)\n",
    "variable = StringVar(win)\n",
    "variable.set(\"CP\")\n",
    "w = OptionMenu(win, variable, \"1: typical angina\",\"2: atypical angina\",\"3: non-anginal pain\",\"4: asymptomatic\")\n",
    "w.place(x=220,y=230)\n",
    "\n",
    "age = StringVar()\n",
    "heart_rate = StringVar()\n",
    "Gender = StringVar()\n",
    "cp  = StringVar()\n",
    "\n",
    "entry_age = Entry(win,textvariable = age, width=30)\n",
    "entry_age.place(x=220,y=120)\n",
    "\n",
    "entry_heart_rate = Entry(win, textvariable = heart_rate, width=30)\n",
    "entry_heart_rate.place(x=220,y= 150)\n",
    "\n",
    "# -----------------------------------------------------------------------------------------------------------\n",
    "### Add some functionality by creating and linking buttons to functions!\n",
    "\n",
    "# Design the look of the Reset button and link to the reset() function:\n",
    "reset = Button(win, \n",
    "               text=\"Reset\", \n",
    "               width=\"12\",\n",
    "               height=\"1\",\n",
    "               activebackground=\"red\",\n",
    "               command=reset, \n",
    "               bg=\"light blue\",\n",
    "               font = (\"Calibri 12 \")).place(x=60, y=300)\n",
    "\n",
    "# Design the look of the Reset button and link to the check_inputs() - containing the statement() - function\n",
    "submit = Button(win, \n",
    "                text=\"Input\", \n",
    "                width=\"12\",\n",
    "                height=\"1\",\n",
    "                activebackground=\"violet\", \n",
    "                bg=\"light blue\",\n",
    "                command=check_inputs,\n",
    "                font = (\"Calibri 12 \")).place(x=260, y=300)\n",
    "\n",
    "# -------------------------------------------------------------------------------------------------------\n",
    "\n",
    "#Run the Patient Data Input App!\n",
    "win.mainloop()"
   ]
  }
 ],
 "metadata": {
  "kernelspec": {
   "display_name": "Python 3.10.10 ('studysession': venv)",
   "language": "python",
   "name": "python3"
  },
  "language_info": {
   "codemirror_mode": {
    "name": "ipython",
    "version": 3
   },
   "file_extension": ".py",
   "mimetype": "text/x-python",
   "name": "python",
   "nbconvert_exporter": "python",
   "pygments_lexer": "ipython3",
   "version": "3.10.10"
  },
  "vscode": {
   "interpreter": {
    "hash": "688ad3824159cede75c4f95a116c45d49ec6c83f0ebdb11c65ac63bf3907e7a9"
   }
  }
 },
 "nbformat": 4,
 "nbformat_minor": 4
}
