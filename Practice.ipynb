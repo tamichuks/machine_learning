{
 "cells": [
  {
   "cell_type": "code",
   "execution_count": 1,
   "metadata": {},
   "outputs": [
    {
     "name": "stdout",
     "output_type": "stream",
     "text": [
      "Hello world\n"
     ]
    }
   ],
   "source": [
    "print(\"Hello world\")"
   ]
  },
  {
   "cell_type": "code",
   "execution_count": 5,
   "metadata": {},
   "outputs": [
    {
     "data": {
      "text/plain": [
       "['a', 'b', 'c', 'd', 'e']"
      ]
     },
     "execution_count": 5,
     "metadata": {},
     "output_type": "execute_result"
    }
   ],
   "source": [
    "my_list = [\"a\",\"b\",\"c\",\"d\",\"e\"]\n",
    "my_list"
   ]
  },
  {
   "cell_type": "code",
   "execution_count": 8,
   "metadata": {},
   "outputs": [
    {
     "name": "stdout",
     "output_type": "stream",
     "text": [
      "Hello World\n"
     ]
    }
   ],
   "source": [
    "my_string = 'Hello'\n",
    "second_string = ' World'\n",
    "print(my_string + second_string)"
   ]
  },
  {
   "cell_type": "code",
   "execution_count": 10,
   "metadata": {},
   "outputs": [
    {
     "data": {
      "text/plain": [
       "(0, 1, 2, 3, 4, 5, 6)"
      ]
     },
     "execution_count": 10,
     "metadata": {},
     "output_type": "execute_result"
    }
   ],
   "source": [
    "my_tuple =(0,1,2,3,4,5,6)     \n",
    "\n",
    "my_tuple #output is eclosed in parentheses    "
   ]
  },
  {
   "cell_type": "code",
   "execution_count": 14,
   "metadata": {},
   "outputs": [
    {
     "name": "stdout",
     "output_type": "stream",
     "text": [
      "{'movie': 'Interstellar', 'director': 'Christopher Nolan', 'year': 2014, 'rating': 8.6}\n",
      "2014\n"
     ]
    }
   ],
   "source": [
    "my_dictionary = {\n",
    "  \"movie\": \"Interstellar\",\n",
    "  \"director\": \"Christopher Nolan\",\n",
    "  \"year\": 2014\n",
    "}\n",
    "my_dictionary[\"rating\"] = 8.6   \n",
    "print(my_dictionary)\n",
    "x = my_dictionary[\"year\"]\n",
    "print(x)"
   ]
  },
  {
   "cell_type": "code",
   "execution_count": 16,
   "metadata": {},
   "outputs": [
    {
     "name": "stdout",
     "output_type": "stream",
     "text": [
      "x is greater than 10\n",
      " and also greater than 20!\n"
     ]
    }
   ],
   "source": [
    "x = 25\n",
    "\n",
    "if x > 10:\n",
    "  print(\"x is greater than 10\")\n",
    "  if x > 20:\n",
    "    print(\" and also greater than 20!\")\n",
    "  else:\n",
    "    print(\"but less than 20.\")"
   ]
  },
  {
   "cell_type": "code",
   "execution_count": 17,
   "metadata": {},
   "outputs": [
    {
     "name": "stdout",
     "output_type": "stream",
     "text": [
      "1\n",
      "2\n",
      "3\n",
      "4\n",
      "5\n"
     ]
    }
   ],
   "source": [
    "number = 1\n",
    "while number < 10:\n",
    "  print(number)\n",
    "  if number == 5:\n",
    "    break\n",
    "  number = number + 1"
   ]
  },
  {
   "cell_type": "code",
   "execution_count": 18,
   "metadata": {},
   "outputs": [
    {
     "name": "stdout",
     "output_type": "stream",
     "text": [
      "D\n",
      "a\n",
      "t\n",
      "a\n",
      " \n",
      "A\n",
      "n\n",
      "a\n",
      "l\n",
      "y\n",
      "s\n",
      "i\n",
      "s\n"
     ]
    }
   ],
   "source": [
    "for x in \"Data Analysis\":\n",
    "  print(x)"
   ]
  },
  {
   "cell_type": "code",
   "execution_count": 19,
   "metadata": {},
   "outputs": [
    {
     "name": "stdout",
     "output_type": "stream",
     "text": [
      "tall girl\n",
      "tall boy\n",
      "tall kid\n",
      "funny girl\n",
      "funny boy\n",
      "funny kid\n",
      "responsible girl\n",
      "responsible boy\n",
      "responsible kid\n"
     ]
    }
   ],
   "source": [
    "adjectives = [\"tall\", \"funny\", \"responsible\"]\n",
    "names = [\"girl\", \"boy\", \"kid\"]\n",
    "\n",
    "for x in adjectives:\n",
    "  for y in names:\n",
    "    print(x, y)"
   ]
  },
  {
   "cell_type": "code",
   "execution_count": 20,
   "metadata": {},
   "outputs": [
    {
     "name": "stdout",
     "output_type": "stream",
     "text": [
      "100\n"
     ]
    },
    {
     "data": {
      "text/plain": [
       "100"
      ]
     },
     "execution_count": 20,
     "metadata": {},
     "output_type": "execute_result"
    }
   ],
   "source": [
    "def main():\n",
    "    list = [0, -5, 4, 100]\n",
    "    max = list[ 0 ]  \n",
    "    for element in list:  \n",
    "        if element >= max:\n",
    "            max = element\n",
    "        \n",
    "            #add your code instead of pass\n",
    "    \n",
    "    print( max )\n",
    "    return max \n",
    " \n",
    "main()"
   ]
  },
  {
   "cell_type": "code",
   "execution_count": 27,
   "metadata": {},
   "outputs": [
    {
     "ename": "ModuleNotFoundError",
     "evalue": "No module named 'numpy'",
     "output_type": "error",
     "traceback": [
      "\u001b[1;31m---------------------------------------------------------------------------\u001b[0m",
      "\u001b[1;31mModuleNotFoundError\u001b[0m                       Traceback (most recent call last)",
      "Cell \u001b[1;32mIn [27], line 1\u001b[0m\n\u001b[1;32m----> 1\u001b[0m \u001b[38;5;28;01mimport\u001b[39;00m \u001b[38;5;21;01mnumpy\u001b[39;00m \u001b[38;5;28;01mas\u001b[39;00m \u001b[38;5;21;01mnp\u001b[39;00m\n\u001b[0;32m      2\u001b[0m my_array \u001b[38;5;241m=\u001b[39m np\u001b[38;5;241m.\u001b[39marray([\u001b[38;5;241m1\u001b[39m,\u001b[38;5;241m2\u001b[39m,\u001b[38;5;241m3\u001b[39m,\u001b[38;5;241m4\u001b[39m,\u001b[38;5;241m5\u001b[39m])\n\u001b[0;32m      3\u001b[0m \u001b[38;5;28mprint\u001b[39m(my_array)\n",
      "\u001b[1;31mModuleNotFoundError\u001b[0m: No module named 'numpy'"
     ]
    }
   ],
   "source": [
    "import numpy as np\n",
    "my_array = np.array([1,2,3,4,5])\n",
    "print(my_array)"
   ]
  },
  {
   "cell_type": "code",
   "execution_count": 28,
   "metadata": {},
   "outputs": [
    {
     "name": "stdout",
     "output_type": "stream",
     "text": [
      "Collecting numpy\n",
      "  Using cached numpy-1.24.2-cp310-cp310-win_amd64.whl (14.8 MB)\n",
      "Installing collected packages: numpy\n",
      "Successfully installed numpy-1.24.2\n",
      "Note: you may need to restart the kernel to use updated packages.\n"
     ]
    },
    {
     "name": "stderr",
     "output_type": "stream",
     "text": [
      "  WARNING: The script f2py.exe is installed in 'C:\\Users\\tamic\\AppData\\Local\\Packages\\PythonSoftwareFoundation.Python.3.10_qbz5n2kfra8p0\\LocalCache\\local-packages\\Python310\\Scripts' which is not on PATH.\n",
      "  Consider adding this directory to PATH or, if you prefer to suppress this warning, use --no-warn-script-location.\n",
      "\n",
      "[notice] A new release of pip available: 22.3.1 -> 23.0\n",
      "[notice] To update, run: C:\\Users\\tamic\\AppData\\Local\\Microsoft\\WindowsApps\\PythonSoftwareFoundation.Python.3.10_qbz5n2kfra8p0\\python.exe -m pip install --upgrade pip\n"
     ]
    }
   ],
   "source": [
    "pip install numpy"
   ]
  },
  {
   "cell_type": "code",
   "execution_count": 30,
   "metadata": {},
   "outputs": [
    {
     "name": "stdout",
     "output_type": "stream",
     "text": [
      "Requirement already satisfied: pip in c:\\program files\\windowsapps\\pythonsoftwarefoundation.python.3.10_3.10.2800.0_x64__qbz5n2kfra8p0\\lib\\site-packages (22.3.1)\n",
      "Collecting pip\n",
      "  Using cached pip-23.0-py3-none-any.whl (2.1 MB)\n",
      "Installing collected packages: pip\n",
      "Successfully installed pip-23.0\n"
     ]
    },
    {
     "name": "stderr",
     "output_type": "stream",
     "text": [
      "  WARNING: The scripts pip.exe, pip3.10.exe and pip3.exe are installed in 'C:\\Users\\tamic\\AppData\\Local\\Packages\\PythonSoftwareFoundation.Python.3.10_qbz5n2kfra8p0\\LocalCache\\local-packages\\Python310\\Scripts' which is not on PATH.\n",
      "  Consider adding this directory to PATH or, if you prefer to suppress this warning, use --no-warn-script-location.\n",
      "\n",
      "[notice] A new release of pip available: 22.3.1 -> 23.0\n",
      "[notice] To update, run: C:\\Users\\tamic\\AppData\\Local\\Microsoft\\WindowsApps\\PythonSoftwareFoundation.Python.3.10_qbz5n2kfra8p0\\python.exe -m pip install --upgrade pip\n"
     ]
    }
   ],
   "source": [
    "!C:\\Users\\tamic\\AppData\\Local\\Microsoft\\WindowsApps\\PythonSoftwareFoundation.Python.3.10_qbz5n2kfra8p0\\python.exe -m pip install --upgrade pip"
   ]
  },
  {
   "cell_type": "code",
   "execution_count": 31,
   "metadata": {},
   "outputs": [
    {
     "name": "stdout",
     "output_type": "stream",
     "text": [
      "Requirement already satisfied: numpy in c:\\users\\tamic\\appdata\\local\\packages\\pythonsoftwarefoundation.python.3.10_qbz5n2kfra8p0\\localcache\\local-packages\\python310\\site-packages (1.24.2)\n"
     ]
    }
   ],
   "source": [
    "!pip install numpy"
   ]
  },
  {
   "cell_type": "code",
   "execution_count": 32,
   "metadata": {},
   "outputs": [
    {
     "name": "stdout",
     "output_type": "stream",
     "text": [
      "[1 2 3 4 5]\n"
     ]
    }
   ],
   "source": [
    "import numpy as np\n",
    "my_array = np.array([1, 2, 3, 4, 5])\n",
    "\n",
    "print(my_array)"
   ]
  },
  {
   "cell_type": "code",
   "execution_count": 33,
   "metadata": {},
   "outputs": [
    {
     "name": "stdout",
     "output_type": "stream",
     "text": [
      "[1 2 3 4 5]\n"
     ]
    }
   ],
   "source": [
    "import numpy as np\n",
    "my_array = np.array((1, 2, 3, 4, 5))\n",
    "\n",
    "print(my_array)"
   ]
  },
  {
   "cell_type": "code",
   "execution_count": 34,
   "metadata": {},
   "outputs": [
    {
     "name": "stdout",
     "output_type": "stream",
     "text": [
      "0\n",
      "1\n",
      "2\n"
     ]
    }
   ],
   "source": [
    "my_array0 = np.array(50)\n",
    "my_array1 = np.array([1, 2, 3, 4, 5])\n",
    "my_array2 = np.array([[1, 2, 3], [4, 5, 6]])\n",
    " \n",
    "print(my_array0.ndim)\n",
    "print(my_array1.ndim)\n",
    "print(my_array2.ndim)"
   ]
  },
  {
   "cell_type": "code",
   "execution_count": 35,
   "metadata": {},
   "outputs": [
    {
     "name": "stdout",
     "output_type": "stream",
     "text": [
      "6\n"
     ]
    }
   ],
   "source": [
    "my_array = np.array([[[1, 2, 3], [4, 5, 6]], [[7, 8, 9], [10, 11, 12]]])\n",
    "print(my_array[0, 1, 2])"
   ]
  },
  {
   "cell_type": "code",
   "execution_count": 50,
   "metadata": {},
   "outputs": [
    {
     "name": "stdout",
     "output_type": "stream",
     "text": [
      "48\n"
     ]
    }
   ],
   "source": [
    "import numpy as random\n",
    "my_array= random.randint(100)\n",
    "print(my_array)"
   ]
  },
  {
   "cell_type": "code",
   "execution_count": 41,
   "metadata": {},
   "outputs": [
    {
     "name": "stdout",
     "output_type": "stream",
     "text": [
      "85\n"
     ]
    }
   ],
   "source": [
    "from numpy import random\n",
    "\n",
    "x = random.randint(100) #generates a number integer between 0 and 100\n",
    "\n",
    "print(x)"
   ]
  },
  {
   "cell_type": "code",
   "execution_count": 62,
   "metadata": {},
   "outputs": [
    {
     "name": "stdout",
     "output_type": "stream",
     "text": [
      "My shape name is Square\n"
     ]
    }
   ],
   "source": [
    "class GeometricShape:\n",
    "  def __init__(self, name, number_of_edges):\n",
    "    self.name = name\n",
    "    self. number_of_edges = number_of_edges\n",
    "\n",
    "  def my_function(self):\n",
    "    print(\"My shape name is \" + self.name)\n",
    "\n",
    "my_shape = GeometricShape(\"Square\", 4)\n",
    "my_shape.my_function()"
   ]
  },
  {
   "cell_type": "code",
   "execution_count": 69,
   "metadata": {},
   "outputs": [
    {
     "name": "stdout",
     "output_type": "stream",
     "text": [
      "3\n",
      "5\n"
     ]
    }
   ],
   "source": [
    "x = 5\n",
    "\n",
    "def my_function():\n",
    "    x=3\n",
    "    print(x)\n",
    "\n",
    "my_function()\n",
    "\n",
    "print(x)"
   ]
  },
  {
   "cell_type": "code",
   "execution_count": 74,
   "metadata": {},
   "outputs": [
    {
     "name": "stdout",
     "output_type": "stream",
     "text": [
      "The reversed string is: nametag\n"
     ]
    },
    {
     "data": {
      "text/plain": [
       "'nametag'"
      ]
     },
     "execution_count": 74,
     "metadata": {},
     "output_type": "execute_result"
    }
   ],
   "source": [
    "def reverse_string(input_string):\n",
    "    return input_string[::-1]\n",
    "\n",
    "\n",
    "print(\"The reversed string is:\", reverse_string(input_string))\n",
    "\n",
    "reverse_string(\"gateman\")"
   ]
  },
  {
   "cell_type": "code",
   "execution_count": 71,
   "metadata": {},
   "outputs": [
    {
     "name": "stdout",
     "output_type": "stream",
     "text": [
      "nametag\n"
     ]
    },
    {
     "data": {
      "text/plain": [
       "'nametag'"
      ]
     },
     "execution_count": 71,
     "metadata": {},
     "output_type": "execute_result"
    }
   ],
   "source": [
    "def string_reverse(my_string):\n",
    "    output = my_string[::-1]\n",
    "    index = len(my_string)\n",
    "    \n",
    "    print(output)\n",
    "    return output\n",
    "def main():\n",
    "    return string_reverse('gateman')\n",
    "    \n",
    "main()\n",
    "\n",
    "my_file=open(\"the_file.txt\",r)"
   ]
  },
  {
   "cell_type": "code",
   "execution_count": 77,
   "metadata": {},
   "outputs": [],
   "source": [
    "my_file=open(\"the_file.txt\",\"a\")"
   ]
  },
  {
   "cell_type": "code",
   "execution_count": 79,
   "metadata": {},
   "outputs": [
    {
     "name": "stdout",
     "output_type": "stream",
     "text": [
      "Welcome to \"Data Analysis using Python\"!\n",
      "You are currently in Lesson 6.\n"
     ]
    }
   ],
   "source": [
    "my_file = open(\"the_file.txt\")\n",
    "print(my_file.read())"
   ]
  },
  {
   "cell_type": "code",
   "execution_count": 80,
   "metadata": {},
   "outputs": [
    {
     "name": "stdout",
     "output_type": "stream",
     "text": [
      "Welcome\n"
     ]
    }
   ],
   "source": [
    "my_file = open(\"the_file.txt\")\n",
    "print(my_file.read(7))"
   ]
  },
  {
   "cell_type": "code",
   "execution_count": 82,
   "metadata": {},
   "outputs": [
    {
     "name": "stdout",
     "output_type": "stream",
     "text": [
      "Welcome to \"Data Analysis using Python\"!\n",
      "\n",
      "You are currently in Lesson 6.\n"
     ]
    }
   ],
   "source": [
    "my_file = open(\"the_file.txt\")\n",
    "print(my_file.readline())#1st line\n",
    "print(my_file.readline())#2nd line"
   ]
  },
  {
   "cell_type": "code",
   "execution_count": 83,
   "metadata": {},
   "outputs": [
    {
     "name": "stdout",
     "output_type": "stream",
     "text": [
      "Welcome to \"Data Analysis using Python\"!\n",
      "You are currently in Lesson 6.\n"
     ]
    }
   ],
   "source": [
    "my_file = open(\"the_file.txt\")\n",
    "print(my_file.read())\n",
    "my_file.close()"
   ]
  },
  {
   "cell_type": "code",
   "execution_count": 84,
   "metadata": {},
   "outputs": [
    {
     "name": "stdout",
     "output_type": "stream",
     "text": [
      "Welcome to \"Data Analysis using Python\"!\n",
      "\n",
      "You are currently in Lesson 6.\n"
     ]
    }
   ],
   "source": [
    "my_file = open(\"the_file.txt\", \"r\") \n",
    "for x in my_file: \n",
    "   print(x)"
   ]
  },
  {
   "cell_type": "code",
   "execution_count": 85,
   "metadata": {},
   "outputs": [
    {
     "name": "stdout",
     "output_type": "stream",
     "text": [
      "Welcome to \"Data Analysis using Python\"!\n",
      "You are currently in Lesson 6.You are now in section 3!\n"
     ]
    }
   ],
   "source": [
    "my_file = open(\"the_file.txt\", \"a\")\n",
    "my_file.write(\"You are now in section 3!\")\n",
    "my_file.close()\n",
    "\n",
    "#Check the edits\n",
    "my_file = open(\"the_file.txt\", \"r\")\n",
    "print(my_file.read())"
   ]
  },
  {
   "cell_type": "code",
   "execution_count": 86,
   "metadata": {},
   "outputs": [
    {
     "name": "stdout",
     "output_type": "stream",
     "text": [
      "You are changing the original text with this!\n"
     ]
    }
   ],
   "source": [
    "my_file = open(\"the_file.txt\", \"w\")\n",
    "my_file.write(\"You are changing the original text with this!\")\n",
    "my_file.close()\n",
    "\n",
    "#Check the edits\n",
    "my_file = open(\"the_file.txt\", \"r\")\n",
    "print(my_file.read())"
   ]
  },
  {
   "cell_type": "code",
   "execution_count": 87,
   "metadata": {},
   "outputs": [
    {
     "name": "stdout",
     "output_type": "stream",
     "text": [
      "Collecting tk\n",
      "  Downloading tk-0.1.0-py3-none-any.whl (3.9 kB)\n",
      "Installing collected packages: tk\n",
      "Successfully installed tk-0.1.0\n",
      "Note: you may need to restart the kernel to use updated packages.\n"
     ]
    }
   ],
   "source": [
    "pip install tk"
   ]
  },
  {
   "cell_type": "code",
   "execution_count": 129,
   "metadata": {},
   "outputs": [],
   "source": [
    "import tkinter as tk\n",
    "window = tk.Tk()\n",
    "Hello = tk.Label(text=\"Hello, Tkinter\")\n",
    "\n",
    "\n",
    "Hello.pack()\n",
    "Hello.mainloop()\n"
   ]
  },
  {
   "cell_type": "code",
   "execution_count": 140,
   "metadata": {},
   "outputs": [],
   "source": [
    "import re\n",
    "from tkinter import *\n",
    "import tkinter as tk\n",
    "\n",
    "### Set-up and define input variables:\n",
    "\n",
    "# A function to check the input in the numerical fields\n",
    "def check_inputs():\n",
    "    if age.get() == \"\":\n",
    "        print(\"Age Field is Empty!!\")\n",
    "        Label(win,text=\"Age Field is Empty!!\",fg=\"blue\",bg=\"yellow\",font = (\"Calibri 10 bold\")).place(x=12,y=580)\n",
    "    elif heart_rate.get() == \"\":\n",
    "        print(\"Heart Rate Field is Empty!!\")\n",
    "        Label(win,text=\"Heart Rate Field is Empty!!\",fg=\"blue\",bg=\"yellow\",font = (\"Calibri 10 bold\")).place(x=12,y=580)  \n",
    "    else:\n",
    "        statement()\n",
    "        \n",
    "# A function to reset data inputs when the 'Reset' button is clicked\n",
    "def reset():\n",
    "    age.set(\"\")\n",
    "    heart_rate.set(\"\") \n",
    "\n",
    "# A function to print a statement that appears on the app when the 'Input' button is clicked  \n",
    "def statement():\n",
    "    gender_dict = {\"Male\":1, \"Female\":0}\n",
    "    cp_dict = {\"1: typical angina\":0,\"2: atypical angina\":1,\"3: non-anginal pain\":2,\"4: asymptomatic\":3}\n",
    "\n",
    "    data = [float(age.get()),\n",
    "            float(heart_rate.get()),\n",
    "            gender_dict[str(radio.get())], \n",
    "            cp_dict[str(variable.get())]]\n",
    "\n",
    "    Label(win,text= \"Input Successful!\",fg=\"blue\",bg=\"yellow\",font = (\"Calibri 10 bold\")).place(x=12,y=350)\n",
    "    Label(win,text= data,fg=\"blue\",font = (\"Calibri 10 bold\")).place(x=12,y=370)\n",
    "    \n",
    "# ------------------------------------------------------------------------------------------------------\n",
    "\n",
    "### Set-up the appearance of the GUI and the variables:\n",
    "\n",
    "win =  Tk() # Create a new TK window\n",
    "\n",
    "win.geometry(\"500x400\") # window size\n",
    "win.configure(background=\"#Eaedee\") # background colour\n",
    "win.title(\"Patient Data Entry Form\") # window title\n",
    "win.iconbitmap('Apega.JPG') # icon image - you will need an image file in the same folder as your JN file to include this \n",
    "\n",
    "## The title of the App\n",
    "title = Label(win, text=\"Patient Data Entry\", bg=\"#2583be\", width=\"350\", height=\"2\", \n",
    "              fg=\"black\", font = (\"Arial 30 italic\")).pack()\n",
    "\n",
    "\n",
    "# Add the input labels and fields\n",
    "age = Label(win, text=\"Age in Years\", bg=\"#Eaedee\", font=(\"Verdana 12\")).place(x=12, y=120)\n",
    "\n",
    "heart_rate = Label(win, text=\"Maximum Heart Rate \", bg=\"#Eaedee\", font=(\"Verdana 12\")).place(x=12, y=150)\n",
    "  \n",
    "Gender = Label(win, text=\"Gender \",bg=\"#Eaedee\",font = (\"Verdana 12\")).place(x=12,y=200)\n",
    "\n",
    "radio = StringVar()\n",
    "Male = Radiobutton(win, text=\"Male\",bg=\"#Eaedee\",variable=radio,\n",
    "                   value=\"Male\",font = (\"Verdana 12\")).place(x=220,y=200)\n",
    "Female = Radiobutton(win, text=\"Female\",bg=\"#Eaedee\",variable=radio,\n",
    "                     value=\"Female\",font = (\"Verdana 12\")).place(x=300,y=200)\n",
    "\n",
    "cp = Label(win,text=\"Chest Pain \",bg=\"#Eaedee\",font = (\"Verdana 12\")).place(x=12,y=240)\n",
    "variable = StringVar(win)\n",
    "variable.set(\"CP\")\n",
    "w = OptionMenu(win, variable, \"1: typical angina\",\"2: atypical angina\",\"3: non-anginal pain\",\"4: asymptomatic\")\n",
    "w.place(x=220,y=230)\n",
    "\n",
    "age = StringVar()\n",
    "heart_rate = StringVar()\n",
    "Gender = StringVar()\n",
    "cp  = StringVar()\n",
    "\n",
    "entry_age = Entry(win,textvariable = age, width=30)\n",
    "entry_age.place(x=220,y=120)\n",
    "\n",
    "entry_heart_rate = Entry(win, textvariable = heart_rate, width=30)\n",
    "entry_heart_rate.place(x=220,y= 150)\n",
    "\n",
    "# -----------------------------------------------------------------------------------------------------------\n",
    "### Add some functionality by creating and linking buttons to functions!\n",
    "\n",
    "# Design the look of the Reset button and link to the reset() function:\n",
    "reset = Button(win, \n",
    "               text=\"Reset\", \n",
    "               width=\"12\",\n",
    "               height=\"1\",\n",
    "               activebackground=\"red\",\n",
    "               command=reset, \n",
    "               bg=\"light blue\",\n",
    "               font = (\"Calibri 12 \")).place(x=60, y=300)\n",
    "\n",
    "# Design the look of the Reset button and link to the check_inputs() - containing the statement() - function\n",
    "submit = Button(win, \n",
    "                text=\"Input\", \n",
    "                width=\"12\",\n",
    "                height=\"1\",\n",
    "                activebackground=\"violet\", \n",
    "                bg=\"light blue\",\n",
    "                command=check_inputs,\n",
    "                font = (\"Calibri 12 \")).place(x=260, y=300)\n",
    "\n",
    "# -------------------------------------------------------------------------------------------------------\n",
    "\n",
    "#Run the Patient Data Input App!\n",
    "win.mainloop()"
   ]
  }
 ],
 "metadata": {
  "kernelspec": {
   "display_name": "Python 3.10.10 64-bit (microsoft store)",
   "language": "python",
   "name": "python3"
  },
  "language_info": {
   "codemirror_mode": {
    "name": "ipython",
    "version": 3
   },
   "file_extension": ".py",
   "mimetype": "text/x-python",
   "name": "python",
   "nbconvert_exporter": "python",
   "pygments_lexer": "ipython3",
   "version": "3.10.10"
  },
  "orig_nbformat": 4,
  "vscode": {
   "interpreter": {
    "hash": "07b02d9da5e191ac088589b6de2d03c89cd85c09d06230016938e72ac3759f38"
   }
  }
 },
 "nbformat": 4,
 "nbformat_minor": 2
}
